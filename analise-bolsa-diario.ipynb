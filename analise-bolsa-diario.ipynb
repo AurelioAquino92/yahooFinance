{
 "cells": [
  {
   "attachments": {},
   "cell_type": "markdown",
   "metadata": {},
   "source": [
    "# Bibliotecas"
   ]
  },
  {
   "cell_type": "code",
   "execution_count": null,
   "metadata": {},
   "outputs": [],
   "source": [
    "import yfinance as yf\n",
    "from matplotlib import pyplot as plt\n",
    "import pandas as pd\n",
    "import mplfinance as mplf\n",
    "from os.path import exists\n",
    "from sklearn.metrics import r2_score, mean_squared_error\n",
    "from sklearn.model_selection import train_test_split\n",
    "from lazypredict.Supervised import LazyRegressor"
   ]
  },
  {
   "attachments": {},
   "cell_type": "markdown",
   "metadata": {},
   "source": [
    "# Obter Dados"
   ]
  },
  {
   "cell_type": "code",
   "execution_count": null,
   "metadata": {},
   "outputs": [],
   "source": [
    "if not exists('historico.csv'):\n",
    "    hist = yf.download('ITSA4.SA', period='10y', interval='1d')\n",
    "    hist.to_csv('historico.csv')\n",
    "else:\n",
    "    hist = pd.read_csv('historico.csv', index_col='Date', parse_dates=True)  \n",
    "hist"
   ]
  },
  {
   "attachments": {},
   "cell_type": "markdown",
   "metadata": {},
   "source": [
    "# Tratamento de Dados"
   ]
  },
  {
   "attachments": {},
   "cell_type": "markdown",
   "metadata": {},
   "source": [
    "### Ajuste de Preços"
   ]
  },
  {
   "cell_type": "code",
   "execution_count": null,
   "metadata": {},
   "outputs": [],
   "source": [
    "histAdj = hist.copy()\n",
    "histAdj = histAdj.drop(columns=['Adj Close', 'Volume'])\n",
    "adj = hist['Adj Close'] / hist['Close']\n",
    "histAdj = histAdj.multiply(adj, axis=0)\n",
    "histAdj"
   ]
  },
  {
   "attachments": {},
   "cell_type": "markdown",
   "metadata": {},
   "source": [
    "### Gerando colunas com preços passados"
   ]
  },
  {
   "cell_type": "code",
   "execution_count": null,
   "metadata": {},
   "outputs": [],
   "source": [
    "for i in range(100):\n",
    "    histAdj['Close'+str(i+1)] = histAdj['Close'].shift(i+1)\n",
    "    histAdj['Open'+str(i+1)] = histAdj['Open'].shift(i+1)\n",
    "    histAdj['High'+str(i+1)] = histAdj['High'].shift(i+1)\n",
    "    histAdj['Low'+str(i+1)] = histAdj['Low'].shift(i+1)\n",
    "histAdj = histAdj.dropna()\n",
    "histAdj"
   ]
  },
  {
   "attachments": {},
   "cell_type": "markdown",
   "metadata": {},
   "source": [
    "# Teste de Modelo de Regressão"
   ]
  },
  {
   "attachments": {},
   "cell_type": "markdown",
   "metadata": {},
   "source": [
    "### Separar dados de treino e teste"
   ]
  },
  {
   "cell_type": "code",
   "execution_count": null,
   "metadata": {},
   "outputs": [],
   "source": [
    "x = histAdj.drop(columns=['Open', 'Close', 'High', 'Low'])\n",
    "y = histAdj[['Open', 'High', 'Low', 'Close']]\n",
    "splitDays = -250\n",
    "x_train, x_test, y_train, y_test = x.iloc[:splitDays], x.iloc[splitDays:], y.iloc[:splitDays], y.iloc[splitDays:]\n",
    "# x_train, x_test, y_train, y_test = train_test_split(x, y, test_size=0.5)"
   ]
  },
  {
   "attachments": {},
   "cell_type": "markdown",
   "metadata": {},
   "source": [
    "### Lazy Regressor"
   ]
  },
  {
   "cell_type": "code",
   "execution_count": null,
   "metadata": {},
   "outputs": [],
   "source": [
    "from lazypredict.Supervised import LazyRegressor\n",
    "\n",
    "# LazyRegressor().fit(x_train, x_test, y_train, y_test)"
   ]
  },
  {
   "attachments": {},
   "cell_type": "markdown",
   "metadata": {},
   "source": [
    "### Criando um dos modelos encontrados"
   ]
  },
  {
   "cell_type": "code",
   "execution_count": null,
   "metadata": {},
   "outputs": [],
   "source": [
    "from sklearn.linear_model import OrthogonalMatchingPursuit\n",
    "from math import sqrt\n",
    "\n",
    "modelo = OrthogonalMatchingPursuit()\n",
    "modelo.fit(x_train, y_train)\n",
    "y_train_predict = modelo.predict(x_train)\n",
    "y_test_predict = modelo.predict(x_test)\n",
    "print('Treino R2:', r2_score(y_train, y_train_predict))\n",
    "print('Teste R2:', r2_score(y_test, y_test_predict))\n",
    "print('Treino RMSE:', sqrt(mean_squared_error(y_train, modelo.predict(x_train))))\n",
    "print('Teste RMSE:', sqrt(mean_squared_error(y_test, modelo.predict(x_test))))\n"
   ]
  },
  {
   "attachments": {},
   "cell_type": "markdown",
   "metadata": {},
   "source": [
    "# Visualização"
   ]
  },
  {
   "attachments": {},
   "cell_type": "markdown",
   "metadata": {},
   "source": [
    "### Dados do Histórico"
   ]
  },
  {
   "cell_type": "code",
   "execution_count": null,
   "metadata": {},
   "outputs": [],
   "source": [
    "fig = mplf.figure(figsize=(15, 4))\n",
    "mplf.plot(y_test, type='candle', ax=fig.add_subplot(2, 1, 1))\n",
    "prediction = modelo.predict(x_test)\n",
    "dfPrediction = pd.DataFrame(prediction, y_test.index, y_test.columns)\n",
    "mplf.plot(dfPrediction, type='candle', ax=fig.add_subplot(2, 1, 2))\n",
    "dif = y - dfPrediction\n",
    "plt.figure(figsize=(15, 4))\n",
    "plt.plot(dif['Close'])\n",
    "plt.show()"
   ]
  },
  {
   "attachments": {},
   "cell_type": "markdown",
   "metadata": {},
   "source": [
    "# Prever ontem, hoje e amanhã"
   ]
  },
  {
   "cell_type": "code",
   "execution_count": 77,
   "metadata": {},
   "outputs": [
    {
     "name": "stdout",
     "output_type": "stream",
     "text": [
      "[*********************100%***********************]  1 of 1 completed\n",
      "Dados:\n",
      "             Open  High  Low  Close\n",
      "Date                              \n",
      "2023-06-26  9.65  9.72 9.57   9.66\n",
      "2023-06-28  9.50  9.57 9.47   9.54\n",
      "Previsão:\n",
      "             Open  High  Low  Close\n",
      "Date                              \n",
      "2023-06-26  9.66  9.72 9.54   9.64\n",
      "2023-06-28  9.65  9.71 9.57   9.64\n",
      "2023-06-29  9.57  9.65 9.49   9.58\n"
     ]
    }
   ],
   "source": [
    "histAtual = yf.download('ITSA4.SA', period='103d', interval='1d')\n",
    "adj = histAtual['Adj Close'] / histAtual['Close']\n",
    "histAtual = histAtual.drop(columns=['Adj Close', 'Volume'])\n",
    "histAtual = histAtual.multiply(adj, axis=0)\n",
    "amanhaTimeStamp = histAtual.iloc[[-1]].index + pd.Timedelta(days=1)\n",
    "amanhaDados = {\n",
    "    'Open': 0,\n",
    "    'High': 0,\n",
    "    'Low': 0,\n",
    "    'Close': 0\n",
    "}\n",
    "histAtual = pd.concat([histAtual, pd.DataFrame([amanhaDados], index=amanhaTimeStamp)])\n",
    "for i in range(100):\n",
    "    histAtual['Close'+str(i+1)] = histAtual['Close'].shift(i+1)\n",
    "    histAtual['Open'+str(i+1)] = histAtual['Open'].shift(i+1)\n",
    "    histAtual['High'+str(i+1)] = histAtual['High'].shift(i+1)\n",
    "    histAtual['Low'+str(i+1)] = histAtual['Low'].shift(i+1)\n",
    "histAtual = histAtual.dropna()\n",
    "x = histAtual.drop(columns=['Open', 'High', 'Low', 'Close'])\n",
    "previsao = pd.DataFrame(modelo.predict(x), x.index, ['Open', 'High', 'Low', 'Close'])\n",
    "print('Dados:\\n', y.iloc[-2:])\n",
    "print('Previsão:\\n', previsao)"
   ]
  }
 ],
 "metadata": {
  "kernelspec": {
   "display_name": "Python 3",
   "language": "python",
   "name": "python3"
  },
  "language_info": {
   "codemirror_mode": {
    "name": "ipython",
    "version": 3
   },
   "file_extension": ".py",
   "mimetype": "text/x-python",
   "name": "python",
   "nbconvert_exporter": "python",
   "pygments_lexer": "ipython3",
   "version": "3.10.6"
  },
  "orig_nbformat": 4
 },
 "nbformat": 4,
 "nbformat_minor": 2
}
